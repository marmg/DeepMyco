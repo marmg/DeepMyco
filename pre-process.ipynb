{
 "cells": [
  {
   "cell_type": "markdown",
   "metadata": {},
   "source": [
    "# Preprocesamiento de los datos\n",
    "\n",
    "Para poder entrenar los modelos primero hay que conseguir un dataset. El dataset elegido trae las anotaciones en formato COCO. Primero de todo se extraeran las anotaciones. Después se seleccionarán las especeies a clasificar. Por último se tratarán las imágenes.\n",
    "\n",
    "# Data preprocessing\n",
    "\n",
    "To train the models, fristly there has to be a dataset. The chosen dataset brings the annotations in COCO format. First, annotations are extracted. Then species to be classified will be selected. Finally, images will be preprocessed."
   ]
  },
  {
   "cell_type": "code",
   "execution_count": 1,
   "metadata": {},
   "outputs": [],
   "source": [
    "#General imports\n",
    "import random\n",
    "import json\n",
    "import os\n",
    "\n",
    "#Third-party libraries\n",
    "import numpy as np\n",
    "import pandas as pd\n",
    "import cv2\n",
    "import pickle as pkl\n",
    "\n",
    "#Visualization\n",
    "from PIL import Image\n",
    "from matplotlib import pyplot as plt\n",
    "from tqdm import tqdm\n",
    "\n",
    "#Annotation reader\n",
    "from pycocotools.coco import COCO"
   ]
  },
  {
   "cell_type": "markdown",
   "metadata": {},
   "source": [
    "## Extracción de anotaciones\n",
    "\n",
    "COCO dispone de una API para el tratamiento de anotaciones. Se hará uso de ella para extraer los datos. Las anotaciones vienen en un formato JSON, por lo que podemos leerlas sin uso de su librería, pero facilita la tarea.\n",
    "\n",
    "## Annotations extraction\n",
    "\n",
    "COCO has an API for annotation treatment. It will be used to extract data. Annotations are JSON-formatted, so they can be extracted without using the library, but it will simplify the task."
   ]
  },
  {
   "cell_type": "markdown",
   "metadata": {},
   "source": [
    "Primero se verán las licencias disponibles para asegurarse de poder usar las imágenes:\n",
    "\n",
    "First, licenses availables will be shown to assure they can be used rightfully."
   ]
  },
  {
   "cell_type": "code",
   "execution_count": 2,
   "metadata": {},
   "outputs": [
    {
     "data": {
      "text/plain": [
       "[{'id': 1,\n",
       "  'name': 'CC BY-NC 4.0',\n",
       "  'url': 'https://creativecommons.org/licenses/by-nc/4.0/'}]"
      ]
     },
     "execution_count": 2,
     "metadata": {},
     "output_type": "execute_result"
    }
   ],
   "source": [
    "with open(\"../assets/datasets/train_val_annotations/train.json\", 'rb') as f:\n",
    "    json_data = json.load(f)\n",
    "    \n",
    "licenses = json_data['licenses']\n",
    "licenses"
   ]
  },
  {
   "cell_type": "markdown",
   "metadata": {},
   "source": [
    "Como se ve, las imágenes solo tienen una licencia, Creative Commons.\n",
    "\n",
    "As it can be seen, images have only one license, Creative Commons."
   ]
  },
  {
   "cell_type": "markdown",
   "metadata": {},
   "source": [
    "A continuación, se hará una lista de las setas que queramos que nuestro clasificador sea capaz de identificar. Esta es una lista de algunas de las setas más buscadas en la provincia de Teruel.\n",
    "\n",
    "Next, a list of mushrooms we want our classifier to recognize will be done. This is a list of the most searched mushrooms in Teruel county."
   ]
  },
  {
   "cell_type": "code",
   "execution_count": 17,
   "metadata": {},
   "outputs": [],
   "source": [
    "fungi = ['Lactarius deliciosus', 'Lactarius sanguifluus', 'Lactarius zonarius',\n",
    "         'Lactarius chrysorrheus', 'Lactarius salmonicolor','Pleurotus eryngii', \n",
    "         'Hygrophorus latitabundus', 'Hygrophorus marzuolus', 'Marasmius oreades',\n",
    "         'Calocybe gambosa', 'Entoloma lividum', 'Amanita muscaria', 'Boletus pinophilus', \n",
    "         'Agaricus arvensis', 'Agaricus xanthodermus', 'Agrocybe aegerita', \n",
    "         'Boletus edulis', 'Boletus aereus', 'Amanita caesarea', 'Amanita phalloides']"
   ]
  },
  {
   "cell_type": "markdown",
   "metadata": {},
   "source": [
    "Se inicializa el 'lector' de aplicaciones COCO.\n",
    "\n",
    "The COCO applications 'lector' is initialited."
   ]
  },
  {
   "cell_type": "code",
   "execution_count": 18,
   "metadata": {},
   "outputs": [
    {
     "name": "stdout",
     "output_type": "stream",
     "text": [
      "loading annotations into memory...\n",
      "Done (t=0.24s)\n",
      "creating index...\n",
      "index created!\n"
     ]
    }
   ],
   "source": [
    "# initialize COCO api for instance annotations\n",
    "coco=COCO(\"../assets/datasets/train_val_annotations/train.json\")"
   ]
  },
  {
   "cell_type": "markdown",
   "metadata": {},
   "source": [
    "Se seleccionan todas las categorías de la lista disponibles en el dataset.\n",
    "\n",
    "All cateogories of the list availables in the dataset are selected."
   ]
  },
  {
   "cell_type": "code",
   "execution_count": 19,
   "metadata": {},
   "outputs": [
    {
     "data": {
      "text/plain": [
       "[[[578], 'Lactarius deliciosus'],\n",
       " [[574], 'Lactarius chrysorrheus'],\n",
       " [[684], 'Marasmius oreades'],\n",
       " [[109], 'Calocybe gambosa'],\n",
       " [[37], 'Amanita muscaria'],\n",
       " [[87], 'Boletus pinophilus'],\n",
       " [[3], 'Agaricus arvensis'],\n",
       " [[22], 'Agaricus xanthodermus'],\n",
       " [[83], 'Boletus edulis'],\n",
       " [[1281], 'Amanita phalloides']]"
      ]
     },
     "execution_count": 19,
     "metadata": {},
     "output_type": "execute_result"
    }
   ],
   "source": [
    "# get categories availables\n",
    "catIds = coco.getCatIds(catNms=[catNm for catNm in fungi])\n",
    "catIds\n",
    "cats = []\n",
    "for catNm in fungi:\n",
    "    if (len(coco.getCatIds(catNms=catNm)) != 0):\n",
    "        cats.append([coco.getCatIds(catNms=catNm), catNm])\n",
    "cats"
   ]
  },
  {
   "cell_type": "markdown",
   "metadata": {},
   "source": [
    "Se obtiene las imágenes de cada categoría.\n",
    "\n",
    "Images of each category are gotten."
   ]
  },
  {
   "cell_type": "code",
   "execution_count": 20,
   "metadata": {},
   "outputs": [],
   "source": [
    "# get images of the categories above\n",
    "imgs = []\n",
    "data = [[coco.getImgIds(catIds=catId[0])] for catId in cats]\n",
    "for i in range(len(data)):\n",
    "    imgs.append(coco.loadImgs([imgId for imgId in data[i][0]]))"
   ]
  },
  {
   "cell_type": "markdown",
   "metadata": {},
   "source": [
    "Se añade como label el nombre de la especie a cada imagen.\n",
    "\n",
    "Name of the specie is added to the image as label."
   ]
  },
  {
   "cell_type": "code",
   "execution_count": 21,
   "metadata": {},
   "outputs": [],
   "source": [
    "# add label to the image\n",
    "for i in range(len(data)):\n",
    "    for img in imgs[i]:\n",
    "        img['label'] = cats[i][1]"
   ]
  },
  {
   "cell_type": "markdown",
   "metadata": {},
   "source": [
    "## Creación de un dataframe\n",
    "\n",
    "Se crea un dataframe de pandas donde se guardarán los datos que hemos extraído del archivo json\n",
    "\n",
    "## DataFrame creation\n",
    "\n",
    "A pandas dataframe where extracted data will be stored is created"
   ]
  },
  {
   "cell_type": "code",
   "execution_count": 22,
   "metadata": {},
   "outputs": [
    {
     "data": {
      "text/html": [
       "<div>\n",
       "<style scoped>\n",
       "    .dataframe tbody tr th:only-of-type {\n",
       "        vertical-align: middle;\n",
       "    }\n",
       "\n",
       "    .dataframe tbody tr th {\n",
       "        vertical-align: top;\n",
       "    }\n",
       "\n",
       "    .dataframe thead th {\n",
       "        text-align: right;\n",
       "    }\n",
       "</style>\n",
       "<table border=\"1\" class=\"dataframe\">\n",
       "  <thead>\n",
       "    <tr style=\"text-align: right;\">\n",
       "      <th></th>\n",
       "      <th>file_name</th>\n",
       "      <th>height</th>\n",
       "      <th>id</th>\n",
       "      <th>label</th>\n",
       "      <th>license</th>\n",
       "      <th>rights_holder</th>\n",
       "      <th>width</th>\n",
       "    </tr>\n",
       "  </thead>\n",
       "  <tbody>\n",
       "    <tr>\n",
       "      <th>0</th>\n",
       "      <td>images/15834_Lactarius_deliciosus/TKH2013PIC61...</td>\n",
       "      <td>698</td>\n",
       "      <td>71680</td>\n",
       "      <td>Lactarius deliciosus</td>\n",
       "      <td>1</td>\n",
       "      <td>Thomas Kehlet</td>\n",
       "      <td>1024</td>\n",
       "    </tr>\n",
       "    <tr>\n",
       "      <th>1</th>\n",
       "      <td>images/15834_Lactarius_deliciosus/APE2017-9208...</td>\n",
       "      <td>1000</td>\n",
       "      <td>129924</td>\n",
       "      <td>Lactarius deliciosus</td>\n",
       "      <td>1</td>\n",
       "      <td>Arne Pedersen</td>\n",
       "      <td>1333</td>\n",
       "    </tr>\n",
       "    <tr>\n",
       "      <th>2</th>\n",
       "      <td>images/15834_Lactarius_deliciosus/APE2017-9208...</td>\n",
       "      <td>1000</td>\n",
       "      <td>129925</td>\n",
       "      <td>Lactarius deliciosus</td>\n",
       "      <td>1</td>\n",
       "      <td>Arne Pedersen</td>\n",
       "      <td>750</td>\n",
       "    </tr>\n",
       "    <tr>\n",
       "      <th>3</th>\n",
       "      <td>images/15834_Lactarius_deliciosus/APE2017-9208...</td>\n",
       "      <td>1000</td>\n",
       "      <td>129926</td>\n",
       "      <td>Lactarius deliciosus</td>\n",
       "      <td>1</td>\n",
       "      <td>Arne Pedersen</td>\n",
       "      <td>1333</td>\n",
       "    </tr>\n",
       "    <tr>\n",
       "      <th>4</th>\n",
       "      <td>images/15834_Lactarius_deliciosus/APE2017-9208...</td>\n",
       "      <td>1000</td>\n",
       "      <td>129927</td>\n",
       "      <td>Lactarius deliciosus</td>\n",
       "      <td>1</td>\n",
       "      <td>Arne Pedersen</td>\n",
       "      <td>1333</td>\n",
       "    </tr>\n",
       "  </tbody>\n",
       "</table>\n",
       "</div>"
      ],
      "text/plain": [
       "                                           file_name  height      id  \\\n",
       "0  images/15834_Lactarius_deliciosus/TKH2013PIC61...     698   71680   \n",
       "1  images/15834_Lactarius_deliciosus/APE2017-9208...    1000  129924   \n",
       "2  images/15834_Lactarius_deliciosus/APE2017-9208...    1000  129925   \n",
       "3  images/15834_Lactarius_deliciosus/APE2017-9208...    1000  129926   \n",
       "4  images/15834_Lactarius_deliciosus/APE2017-9208...    1000  129927   \n",
       "\n",
       "                  label  license  rights_holder  width  \n",
       "0  Lactarius deliciosus        1  Thomas Kehlet   1024  \n",
       "1  Lactarius deliciosus        1  Arne Pedersen   1333  \n",
       "2  Lactarius deliciosus        1  Arne Pedersen    750  \n",
       "3  Lactarius deliciosus        1  Arne Pedersen   1333  \n",
       "4  Lactarius deliciosus        1  Arne Pedersen   1333  "
      ]
     },
     "execution_count": 22,
     "metadata": {},
     "output_type": "execute_result"
    }
   ],
   "source": [
    "# create pandas dataframe\n",
    "df = pd.concat([pd.DataFrame(img) for img in imgs], sort=True)\n",
    "df.head()"
   ]
  },
  {
   "cell_type": "code",
   "execution_count": 23,
   "metadata": {},
   "outputs": [
    {
     "data": {
      "text/plain": [
       "(1050, 7)"
      ]
     },
     "execution_count": 23,
     "metadata": {},
     "output_type": "execute_result"
    }
   ],
   "source": [
    "# see number of rows and columns of the dataframe\n",
    "df.shape"
   ]
  },
  {
   "cell_type": "code",
   "execution_count": 24,
   "metadata": {},
   "outputs": [],
   "source": [
    "df.to_csv(\"./data.csv\", sep=',',index=False)"
   ]
  },
  {
   "cell_type": "markdown",
   "metadata": {},
   "source": [
    "## Obtención de imágenes de un directorio\n",
    "\n",
    "Se obtienen todas las imágenes que hay en un directorio.\n",
    "\n",
    "## Obtaining images of a path\n",
    "\n",
    "All images inside a path are obtained."
   ]
  },
  {
   "cell_type": "code",
   "execution_count": 28,
   "metadata": {},
   "outputs": [],
   "source": [
    "def get_images_from_path(path):\n",
    "    '''Get all images in the given path, even if they are in subdirectories.'''\n",
    "    images = []\n",
    "    for directory in os.listdir(path):\n",
    "        for filename in os.listdir(os.path.join(path, directory)):\n",
    "            images.append(os.path.join(path, directory, filename))\n",
    "            \n",
    "    return images"
   ]
  },
  {
   "cell_type": "code",
   "execution_count": 29,
   "metadata": {},
   "outputs": [],
   "source": [
    "images = get_images_from_path(\"../assets/images/\")"
   ]
  },
  {
   "cell_type": "markdown",
   "metadata": {},
   "source": [
    "## Redimensionando\n",
    "\n",
    "A continuación se redimensionan las imágenes a 224x224 píxeles. \n",
    "\n",
    "## Resize\n",
    "\n",
    "Next, images are resized to 224x224 pixels."
   ]
  },
  {
   "cell_type": "code",
   "execution_count": 26,
   "metadata": {},
   "outputs": [],
   "source": [
    "def resize_images(images):\n",
    "    '''Resize all images given.'''\n",
    "    WIDTH = 224\n",
    "    HEIGHT = 224\n",
    "    n = 0\n",
    "    \n",
    "    print(\"Resizing images: \")\n",
    "    for img in tqdm(images):\n",
    "        # Read and resize image\n",
    "        full_size_image = cv2.imread(img)\n",
    "        new_size_img = cv2.resize(full_size_image, (WIDTH,HEIGHT), \n",
    "                                  interpolation=cv2.INTER_CUBIC)\n",
    "        cv2.imwrite(img, new_size_img)\n",
    "        n += 1\n",
    "\n",
    "    print(\"Resized \"+ str(n) + \" images\")"
   ]
  },
  {
   "cell_type": "code",
   "execution_count": 30,
   "metadata": {},
   "outputs": [
    {
     "name": "stderr",
     "output_type": "stream",
     "text": [
      "\r",
      "  0%|          | 0/3120 [00:00<?, ?it/s]"
     ]
    },
    {
     "name": "stdout",
     "output_type": "stream",
     "text": [
      "Resizing images: \n"
     ]
    },
    {
     "name": "stderr",
     "output_type": "stream",
     "text": [
      "100%|██████████| 3120/3120 [00:21<00:00, 146.74it/s]"
     ]
    },
    {
     "name": "stdout",
     "output_type": "stream",
     "text": [
      "Resized 3120 images\n"
     ]
    },
    {
     "name": "stderr",
     "output_type": "stream",
     "text": [
      "\n"
     ]
    }
   ],
   "source": [
    "resize_images(images)"
   ]
  },
  {
   "cell_type": "markdown",
   "metadata": {},
   "source": [
    "## Data augmentation\n",
    "\n",
    "Data-augmentation es una técnica utilizada para aumentar el tamaño del dataset cuando este cuenta con pocos ejempos. Hay muchas maneras de realizarlo, una por ejemplo es invertir las imágenes.\n",
    "\n",
    "Data-augmentation is a technique used to increase the size of the dataset, when it has few examples. It can be done by several ways, i.e. flipping images."
   ]
  },
  {
   "cell_type": "code",
   "execution_count": 134,
   "metadata": {},
   "outputs": [],
   "source": [
    "def flip_images(images):\n",
    "    '''Flip all images given.'''\n",
    "    n = 0\n",
    "    \n",
    "    print(\"Flipping images: \")\n",
    "    for img in tqdm(images):\n",
    "        # Read and flip the image\n",
    "        original = cv2.imread(img)\n",
    "        flipped = np.fliplr(original)\n",
    "        cv2.imwrite(img.replace(\".JPG\", \"_flipped.jpg\"), flipped)\n",
    "        n += 1\n",
    "        \n",
    "    print(\"Flipped \" + str(n) + \" images\")"
   ]
  },
  {
   "cell_type": "code",
   "execution_count": 135,
   "metadata": {},
   "outputs": [
    {
     "name": "stderr",
     "output_type": "stream",
     "text": [
      "  1%|          | 18/1766 [00:00<00:09, 178.16it/s]"
     ]
    },
    {
     "name": "stdout",
     "output_type": "stream",
     "text": [
      "Flipping images: \n"
     ]
    },
    {
     "name": "stderr",
     "output_type": "stream",
     "text": [
      "100%|██████████| 1766/1766 [00:08<00:00, 199.32it/s]"
     ]
    },
    {
     "name": "stdout",
     "output_type": "stream",
     "text": [
      "Flipped 1766 images\n"
     ]
    },
    {
     "name": "stderr",
     "output_type": "stream",
     "text": [
      "\n"
     ]
    }
   ],
   "source": [
    "flip_images(images)"
   ]
  },
  {
   "cell_type": "markdown",
   "metadata": {},
   "source": [
    "## Creación de un nuevo dataframe\n",
    "\n",
    "Se ha cambiado el dataset al añadir nuevas imágenes, por lo que hay que actualizarlo.\n",
    "\n",
    "## Creating a new dataframe\n",
    "\n",
    "Dataset has been changed when adding new images, so it has to be updated."
   ]
  },
  {
   "cell_type": "code",
   "execution_count": 31,
   "metadata": {},
   "outputs": [],
   "source": [
    "def create_dataframe(path):\n",
    "    '''\n",
    "    Create a pandas daraframe with two columns, file_name and label, \n",
    "    where file_name is the filename and label is the name of the \n",
    "    directory where the image is.\n",
    "    \n",
    "    Keyword arguments:\n",
    "    path -- directory where the method will start, inside it \n",
    "    must be the directories with the images\n",
    "    '''\n",
    "    df = pd.DataFrame(columns=['file_name', 'label'])\n",
    "\n",
    "    for directory in os.listdir(path):\n",
    "        for filename in os.listdir(os.path.join(path, directory)):\n",
    "            with open(os.path.join(path, directory, filename)) as f:\n",
    "                label = [directory]\n",
    "                file_name = [os.path.join(path, directory, filename)]\n",
    "                current_df = pd.DataFrame({'file_name': file_name, 'label': label})\n",
    "                df = df.append(current_df, ignore_index=True)\n",
    "    \n",
    "    return df"
   ]
  },
  {
   "cell_type": "code",
   "execution_count": 32,
   "metadata": {},
   "outputs": [],
   "source": [
    "df = create_dataframe(\"../assets/images\")"
   ]
  },
  {
   "cell_type": "code",
   "execution_count": 11,
   "metadata": {},
   "outputs": [],
   "source": [
    "df.to_csv(\"../assets/datasets/dataframe.csv\", index=False)"
   ]
  },
  {
   "cell_type": "code",
   "execution_count": 13,
   "metadata": {},
   "outputs": [],
   "source": [
    "df = pd.read_csv(\"../assets/datasets/dataframe.csv\")"
   ]
  },
  {
   "cell_type": "code",
   "execution_count": 14,
   "metadata": {},
   "outputs": [
    {
     "data": {
      "text/html": [
       "<div>\n",
       "<style scoped>\n",
       "    .dataframe tbody tr th:only-of-type {\n",
       "        vertical-align: middle;\n",
       "    }\n",
       "\n",
       "    .dataframe tbody tr th {\n",
       "        vertical-align: top;\n",
       "    }\n",
       "\n",
       "    .dataframe thead th {\n",
       "        text-align: right;\n",
       "    }\n",
       "</style>\n",
       "<table border=\"1\" class=\"dataframe\">\n",
       "  <thead>\n",
       "    <tr style=\"text-align: right;\">\n",
       "      <th></th>\n",
       "      <th>file_name</th>\n",
       "      <th>label</th>\n",
       "    </tr>\n",
       "  </thead>\n",
       "  <tbody>\n",
       "    <tr>\n",
       "      <th>0</th>\n",
       "      <td>../assets/images/Amanita_muscaria/am43.jpg</td>\n",
       "      <td>Amanita_muscaria</td>\n",
       "    </tr>\n",
       "    <tr>\n",
       "      <th>1</th>\n",
       "      <td>../assets/images/Amanita_muscaria/am137.jpg</td>\n",
       "      <td>Amanita_muscaria</td>\n",
       "    </tr>\n",
       "    <tr>\n",
       "      <th>2</th>\n",
       "      <td>../assets/images/Amanita_muscaria/am142_flippe...</td>\n",
       "      <td>Amanita_muscaria</td>\n",
       "    </tr>\n",
       "    <tr>\n",
       "      <th>3</th>\n",
       "      <td>../assets/images/Amanita_muscaria/am132.jpg</td>\n",
       "      <td>Amanita_muscaria</td>\n",
       "    </tr>\n",
       "    <tr>\n",
       "      <th>4</th>\n",
       "      <td>../assets/images/Amanita_muscaria/am164_flippe...</td>\n",
       "      <td>Amanita_muscaria</td>\n",
       "    </tr>\n",
       "  </tbody>\n",
       "</table>\n",
       "</div>"
      ],
      "text/plain": [
       "                                           file_name             label\n",
       "0         ../assets/images/Amanita_muscaria/am43.jpg  Amanita_muscaria\n",
       "1        ../assets/images/Amanita_muscaria/am137.jpg  Amanita_muscaria\n",
       "2  ../assets/images/Amanita_muscaria/am142_flippe...  Amanita_muscaria\n",
       "3        ../assets/images/Amanita_muscaria/am132.jpg  Amanita_muscaria\n",
       "4  ../assets/images/Amanita_muscaria/am164_flippe...  Amanita_muscaria"
      ]
     },
     "execution_count": 14,
     "metadata": {},
     "output_type": "execute_result"
    }
   ],
   "source": [
    "df.head()"
   ]
  },
  {
   "cell_type": "markdown",
   "metadata": {},
   "source": [
    "## Dividir dataset en train y test\n",
    "\n",
    "Se divide el dataset en datos de entrenamiento y validación\n",
    "\n",
    "## Split dataset into train and test\n",
    "\n",
    "Dataset is splitted into train and testing"
   ]
  },
  {
   "cell_type": "code",
   "execution_count": 5,
   "metadata": {},
   "outputs": [],
   "source": [
    "muscaria = df.loc[df.label == \"Amanita_muscaria\"]\n",
    "phalloides = df.loc[df.label == \"Amanita_phalloides\"]\n",
    "arvensis = df.loc[df.label == \"Agaricus_arvensis\"]\n",
    "xanthodermus = df.loc[df.label == \"Agaricus_xanthodermus\"]\n",
    "edulis = df.loc[df.label == \"Boletus_edulis\"]\n",
    "gambosa = df.loc[df.label == \"Calocybe_gambosa\"]\n",
    "oreades = df.loc[df.label == \"Marasmius_oreades\"]"
   ]
  },
  {
   "cell_type": "code",
   "execution_count": 7,
   "metadata": {},
   "outputs": [],
   "source": [
    "muscaria_train = muscaria[:380]\n",
    "muscaria_test = muscaria[380:]\n",
    "\n",
    "phalloides_train = phalloides[:328]\n",
    "phalloides_test = phalloides[328:]\n",
    "\n",
    "arvensis_train = arvensis[:690]\n",
    "arvensis_test = arvensis[690:]\n",
    "\n",
    "xanthodermus_train = xanthodermus[:530]\n",
    "xanthodermus_test = xanthodermus[530:]\n",
    "\n",
    "edulis_train = edulis[:340]\n",
    "edulis_test = edulis[340:]\n",
    "\n",
    "gambosa_train = gambosa[:250] \n",
    "gambosa_test = gambosa[250:]\n",
    "\n",
    "oreades_train = oreades[:440]\n",
    "oreades_test = oreades[440:]"
   ]
  },
  {
   "cell_type": "code",
   "execution_count": 8,
   "metadata": {},
   "outputs": [],
   "source": [
    "df_train = pd.DataFrame(muscaria_train)\n",
    "df_train = df_train.append(phalloides_train).append(arvensis_train).append(xanthodermus_train)\n",
    "df_train = df_train.append(edulis_train).append(gambosa_train).append(oreades_train)"
   ]
  },
  {
   "cell_type": "code",
   "execution_count": 9,
   "metadata": {},
   "outputs": [],
   "source": [
    "df_test = pd.DataFrame(muscaria_test)\n",
    "df_test = df_test.append(phalloides_test).append(arvensis_test).append(xanthodermus_test)\n",
    "df_test = df_test.append(edulis_test).append(gambosa_test).append(oreades_test)"
   ]
  },
  {
   "cell_type": "code",
   "execution_count": 10,
   "metadata": {},
   "outputs": [],
   "source": [
    "df_train = df_train.drop(columns=\"Unnamed: 0\")\n",
    "df_test = df_test.drop(columns=\"Unnamed: 0\")"
   ]
  },
  {
   "cell_type": "code",
   "execution_count": 11,
   "metadata": {},
   "outputs": [],
   "source": [
    "df_train.to_csv(\"../assets/datasets/train.csv\")\n",
    "df_test.to_csv(\"../assets/datasets/test.csv\")"
   ]
  },
  {
   "cell_type": "markdown",
   "metadata": {},
   "source": [
    "## Carga de imágenes\n",
    "\n",
    "Se cargan las imágenes para guardar el valor de sus píxeles en arrays de numpy.\n",
    "\n",
    "## Load images\n",
    "\n",
    "Images are loaded to store their pixels values in numpy arrays."
   ]
  },
  {
   "cell_type": "code",
   "execution_count": 29,
   "metadata": {},
   "outputs": [],
   "source": [
    "def load_image( infilename ) :\n",
    "    img = Image.open( infilename )\n",
    "    img.load()\n",
    "    data = np.asarray( img, dtype=np.uint8 )\n",
    "    data = np.expand_dims(data, axis=0)\n",
    "    return data.flatten()"
   ]
  },
  {
   "cell_type": "code",
   "execution_count": 36,
   "metadata": {},
   "outputs": [
    {
     "data": {
      "image/png": "[encoded data removed]",
      "text/plain": [
       "<PIL.Image.Image image mode=RGB size=224x224 at 0x7FB166BA5B00>"
      ]
     },
     "execution_count": 36,
     "metadata": {},
     "output_type": "execute_result"
    }
   ],
   "source": [
    "arr = load_image(df_train.iloc[0][0]).reshape(224, 224, 3)\n",
    "Image.fromarray(arr)"
   ]
  },
  {
   "cell_type": "code",
   "execution_count": 45,
   "metadata": {},
   "outputs": [],
   "source": [
    "images = []\n",
    "for filename in df_train[:].file_name:\n",
    "    img = load_image(filename)\n",
    "    images.append(img)\n",
    "\n",
    "labels = df_train.label\n",
    "\n",
    "with open(\"../assets/datasets/X_train.pkl\", 'wb') as f:\n",
    "    pkl.dump(np.array(images), f)\n",
    "\n",
    "with open(\"../assets/datasets/y_train.pkl\", 'wb') as f:\n",
    "    pkl.dump(np.array(labels), f)"
   ]
  },
  {
   "cell_type": "code",
   "execution_count": 46,
   "metadata": {},
   "outputs": [],
   "source": [
    "images = []\n",
    "for filename in df_test[:].file_name:\n",
    "    img = load_image(filename)\n",
    "    images.append(img)\n",
    "\n",
    "labels = df_test.label\n",
    "\n",
    "with open(\"../assets/datasets/X_test.pkl\", 'wb') as f:\n",
    "    pkl.dump(np.array(images), f)\n",
    "\n",
    "with open(\"../assets/datasets/y_test.pkl\", 'wb') as f:\n",
    "    pkl.dump(np.array(labels), f)"
   ]
  }
 ],
 "metadata": {
  "kernelspec": {
   "display_name": "Python 3",
   "language": "python",
   "name": "python3"
  },
  "language_info": {
   "codemirror_mode": {
    "name": "ipython",
    "version": 3
   },
   "file_extension": ".py",
   "mimetype": "text/x-python",
   "name": "python",
   "nbconvert_exporter": "python",
   "pygments_lexer": "ipython3",
   "version": "3.6.8"
  }
 },
 "nbformat": 4,
 "nbformat_minor": 2
}
